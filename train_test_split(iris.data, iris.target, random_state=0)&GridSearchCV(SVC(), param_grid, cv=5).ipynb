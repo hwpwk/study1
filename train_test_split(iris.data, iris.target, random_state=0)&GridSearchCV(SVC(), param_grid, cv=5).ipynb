{
 "cells": [
  {
   "cell_type": "code",
   "execution_count": null,
   "metadata": {
    "collapsed": true
   },
   "outputs": [],
   "source": [
    "# 下記記事を写経\n",
    "# 参考:https://qiita.com/tomov3/items/039d4271ed30490edf7b\n",
    "# 参考2:https://teratail.com/questions/137370\n",
    "# 「Python ではじめる機械学習」5章"
   ]
  },
  {
   "cell_type": "markdown",
   "metadata": {},
   "source": [
    "### train_test_split() により得られた training_set に依存したスコアを算出"
   ]
  },
  {
   "cell_type": "code",
   "execution_count": 1,
   "metadata": {
    "collapsed": true
   },
   "outputs": [],
   "source": [
    "# 必要なライブラリの import\n",
    "from sklearn.datasets import load_iris\n",
    "from sklearn.model_selection import train_test_split\n",
    "from sklearn.linear_model import LogisticRegression"
   ]
  },
  {
   "cell_type": "code",
   "execution_count": 2,
   "metadata": {
    "collapsed": true
   },
   "outputs": [],
   "source": [
    "# データのロード\n",
    "iris = load_iris()"
   ]
  },
  {
   "cell_type": "code",
   "execution_count": 3,
   "metadata": {
    "collapsed": true
   },
   "outputs": [],
   "source": [
    "# データの分割\n",
    "X_train, X_test, y_train, y_test = train_test_split(iris.data, iris.target, random_state=0)"
   ]
  },
  {
   "cell_type": "code",
   "execution_count": 6,
   "metadata": {
    "collapsed": true
   },
   "outputs": [],
   "source": [
    "# モデル宣言\n",
    "model = LogisticRegression()"
   ]
  },
  {
   "cell_type": "code",
   "execution_count": 12,
   "metadata": {
    "collapsed": true
   },
   "outputs": [],
   "source": [
    "# training set を用いて学習\n",
    "lr = model.fit(X_train, y_train)"
   ]
  },
  {
   "cell_type": "code",
   "execution_count": 13,
   "metadata": {
    "scrolled": true
   },
   "outputs": [
    {
     "name": "stdout",
     "output_type": "stream",
     "text": [
      "Test set score: 0.868421052631579\n"
     ]
    }
   ],
   "source": [
    "# test set を用いて評価\n",
    "score = lr.score(X_test, y_test)\n",
    "print('Test set score: {}'.format(score))"
   ]
  },
  {
   "cell_type": "markdown",
   "metadata": {},
   "source": [
    "## 交差検証\n",
    "データセットをk個に分割し，モデルの訓練と評価をk回実行\n",
    "得られたk個の評価値の平均をとった値を最終的なモデルのスコアとする"
   ]
  },
  {
   "cell_type": "code",
   "execution_count": 9,
   "metadata": {
    "collapsed": true
   },
   "outputs": [],
   "source": [
    "from sklearn.model_selection import cross_val_score"
   ]
  },
  {
   "cell_type": "code",
   "execution_count": 23,
   "metadata": {},
   "outputs": [],
   "source": [
    "# 交差検証\n",
    "# cvのデフォルトは3\n",
    "scores = cross_val_score(model, iris.data, iris.target, cv=5)"
   ]
  },
  {
   "cell_type": "code",
   "execution_count": 24,
   "metadata": {},
   "outputs": [
    {
     "name": "stdout",
     "output_type": "stream",
     "text": [
      "Cross_Validation_scores: [1.         0.96666667 0.93333333 0.9        1.        ]\n"
     ]
    }
   ],
   "source": [
    "# 各分割におけるスコア\n",
    "# parameter:https://qiita.com/kibinag0/items/1a29db61fcb8c527d952\n",
    "print('Cross_Validation_scores: {}'.format(scores))"
   ]
  },
  {
   "cell_type": "code",
   "execution_count": 25,
   "metadata": {},
   "outputs": [
    {
     "name": "stdout",
     "output_type": "stream",
     "text": [
      "Average_score: 0.9600000000000002\n"
     ]
    }
   ],
   "source": [
    "# スコアの平均値\n",
    "import numpy as np\n",
    "print('Average_score: {}'.format(np.mean(scores)))"
   ]
  },
  {
   "cell_type": "code",
   "execution_count": 27,
   "metadata": {
    "collapsed": true
   },
   "outputs": [],
   "source": [
    "from sklearn.model_selection import KFold\n",
    "from sklearn.model_selection import StratifiedKFold"
   ]
  },
  {
   "cell_type": "code",
   "execution_count": 28,
   "metadata": {},
   "outputs": [
    {
     "name": "stdout",
     "output_type": "stream",
     "text": [
      "Cross_validation_scores: \n",
      "[0. 0. 0.]\n"
     ]
    }
   ],
   "source": [
    "# 単純なk分割交差検証\n",
    "# データの最初から1/kずつ分割\n",
    "kfold = KFold(n_splits=3)\n",
    "print('Cross_validation_scores: \\n{}'.format(cross_val_score(model, iris.data, iris.target, cv=kfold)))"
   ]
  },
  {
   "cell_type": "code",
   "execution_count": 29,
   "metadata": {},
   "outputs": [
    {
     "name": "stdout",
     "output_type": "stream",
     "text": [
      "Cross_validation_scores: \n",
      "[0.96078431 0.92156863 0.95833333]\n"
     ]
    }
   ],
   "source": [
    "# 層化k分割交差検証 \n",
    "# 各分割内でのクラスの比率が全体の比率と同じになるように分割\n",
    "stratifiedkfold = StratifiedKFold(n_splits=3)\n",
    "print('Cross_validation_scores: \\n{}'.format(cross_val_score(model, iris.data, iris.target, cv=stratifiedkfold)))"
   ]
  },
  {
   "cell_type": "code",
   "execution_count": null,
   "metadata": {
    "collapsed": true
   },
   "outputs": [],
   "source": [
    "# 一般的には，回帰には単純なk分割交差検証，クラス分類には層化k分割交差検証が用いられる\n",
    "# cross_val_score()のパラメータcvに何も指定しない場合はこの選択基準で分割方法が選択される"
   ]
  },
  {
   "cell_type": "markdown",
   "metadata": {},
   "source": [
    "### ハイパーパラメータのチューニング\n",
    "単純なグリッドサーチ"
   ]
  },
  {
   "cell_type": "code",
   "execution_count": 31,
   "metadata": {
    "collapsed": true
   },
   "outputs": [],
   "source": [
    "from sklearn.svm import SVC"
   ]
  },
  {
   "cell_type": "code",
   "execution_count": 32,
   "metadata": {
    "collapsed": true
   },
   "outputs": [],
   "source": [
    "X_train, X_test, y_train, y_test = train_test_split(iris.data, iris.target, random_state=0)"
   ]
  },
  {
   "cell_type": "code",
   "execution_count": 35,
   "metadata": {
    "collapsed": true
   },
   "outputs": [],
   "source": [
    "param_list = [0.001, 0.01, 0.1, 1, 10, 100]"
   ]
  },
  {
   "cell_type": "code",
   "execution_count": 54,
   "metadata": {},
   "outputs": [],
   "source": [
    "best_score = 0\n",
    "best_parameters = {}\n",
    "\n",
    "for gamma in param_list:\n",
    "    for C in param_list:\n",
    "        model = SVC(gamma=gamma, C=C)\n",
    "        model.fit(X_train, y_train)\n",
    "        score = model.score(X_test, y_test)\n",
    "        # 最も良いスコアのパラメータとスコアを更新\n",
    "        if score > best_score:\n",
    "            best_score = score\n",
    "            best_parameters = {'gamma' : gamma, 'C' : C}"
   ]
  },
  {
   "cell_type": "code",
   "execution_count": 55,
   "metadata": {},
   "outputs": [
    {
     "name": "stdout",
     "output_type": "stream",
     "text": [
      "Best_score: 0.9736842105263158\n",
      "Best_parameters: {'gamma': 0.001, 'C': 100}\n"
     ]
    }
   ],
   "source": [
    "print('Best_score: {}'.format(best_score))\n",
    "print('Best_parameters: {}'.format(best_parameters))"
   ]
  },
  {
   "cell_type": "markdown",
   "metadata": {},
   "source": [
    "上記単純なグリッドサーチのコードはパラメータ選択の際にtest_setを使用してしまいっていることが問題（score = svm.score(X_test, y_test) の部分）\n",
    "test_setは本来training_setを用いて学習が完了したモデルの汎化精度を評価するためのデータであることから、\n",
    "training_setに分割した後にさらにデータの分割を行い、パラメータ選択のためのデータセットvalidation_setを新たに作成する必要あり"
   ]
  },
  {
   "cell_type": "code",
   "execution_count": 39,
   "metadata": {
    "collapsed": true
   },
   "outputs": [],
   "source": [
    "# X_trainval = X_train + X_valid \n",
    "\n",
    "# irisデータを(訓練セット+検証セット)とテストセットに分割する\n",
    "## この(訓練セット+検証セット)を後で訓練セットと検証セットに分けるための準備\n",
    "X_trainval, X_test, y_trainval, y_test = train_test_split(iris.data, iris.target, random_state=0)\n",
    "# 作成した(訓練セット+検証セット)をさらに訓練セットと検証セットに分割する\n",
    "X_train, X_valid, y_train, y_valid = train_test_split(X_trainval, y_trainval, random_state=1)"
   ]
  },
  {
   "cell_type": "code",
   "execution_count": 50,
   "metadata": {
    "scrolled": false
   },
   "outputs": [
    {
     "name": "stdout",
     "output_type": "stream",
     "text": [
      "(112, 4)\n",
      "(38, 4)\n",
      "(112,)\n",
      "(38,)\n",
      "(84, 4)\n",
      "(28, 4)\n",
      "(84,)\n",
      "(28,)\n"
     ]
    }
   ],
   "source": [
    "print(X_trainval.shape)\n",
    "print(X_test.shape)\n",
    "print(y_trainval.shape)\n",
    "print(y_test.shape)\n",
    "print(X_train.shape)\n",
    "print(X_valid.shape)\n",
    "print(y_train.shape)\n",
    "print(y_valid.shape)"
   ]
  },
  {
   "cell_type": "code",
   "execution_count": 57,
   "metadata": {},
   "outputs": [],
   "source": [
    "best_score = 0\n",
    "best_parameters = {}\n",
    "param_list = [0.001, 0.01, 0.1, 1, 10, 100]\n",
    "\n",
    "for gamma in param_list:\n",
    "    for C in param_list:\n",
    "        model = SVC(gamma=gamma, C=C)\n",
    "        model.fit(X_train, y_train)\n",
    "        # validation_setを用いてscoreを計算する\n",
    "        score = model.score(X_valid, y_valid)\n",
    "        if score > best_score:\n",
    "            best_score = score\n",
    "            best_parameters = {'gamma' : gamma, 'C' : C}"
   ]
  },
  {
   "cell_type": "code",
   "execution_count": 42,
   "metadata": {
    "collapsed": true
   },
   "outputs": [],
   "source": [
    "# **kwargs: 複数のキーワード引数を辞書として受け取る\n",
    "# 参考:https://note.nkmk.me/python-args-kwargs-usage/\n",
    "model = SVC(**best_parameters)"
   ]
  },
  {
   "cell_type": "code",
   "execution_count": 51,
   "metadata": {},
   "outputs": [
    {
     "data": {
      "text/plain": [
       "SVC(C=10, cache_size=200, class_weight=None, coef0=0.0,\n",
       "  decision_function_shape='ovr', degree=3, gamma=0.001, kernel='rbf',\n",
       "  max_iter=-1, probability=False, random_state=None, shrinking=True,\n",
       "  tol=0.001, verbose=False)"
      ]
     },
     "execution_count": 51,
     "metadata": {},
     "output_type": "execute_result"
    }
   ],
   "source": [
    "# best_parametersに対しtraining_set + validation_set を用いて学習\n",
    "model.fit(X_trainval, y_trainval)"
   ]
  },
  {
   "cell_type": "code",
   "execution_count": 52,
   "metadata": {
    "collapsed": true
   },
   "outputs": [],
   "source": [
    "# test_setによる評価はbest_parametersが得られて初めて実行される\n",
    "test_score = model.score(X_test, y_test)"
   ]
  },
  {
   "cell_type": "code",
   "execution_count": 53,
   "metadata": {},
   "outputs": [
    {
     "name": "stdout",
     "output_type": "stream",
     "text": [
      "Best score on validation set: 0.9642857142857143\n",
      "Best parameters: {'gamma': 0.001, 'C': 10}\n",
      "Test set score with best parameters: 0.9210526315789473\n"
     ]
    }
   ],
   "source": [
    "print('Best score on validation set: {}'.format(best_score))\n",
    "print('Best parameters: {}'.format(best_parameters))\n",
    "print('Test set score with best parameters: {}'.format(test_score))"
   ]
  },
  {
   "cell_type": "markdown",
   "metadata": {},
   "source": [
    "## グリッドサーチと交差検証の組み合わせ\n",
    "各パラメータの組合わせにおける評価値の計算の際に交差検証を実行"
   ]
  },
  {
   "cell_type": "code",
   "execution_count": 58,
   "metadata": {
    "collapsed": true
   },
   "outputs": [],
   "source": [
    "best_score = 0\n",
    "best_parameters  = {}\n",
    "\n",
    "for gamma in param_list:\n",
    "    for C in param_list:\n",
    "        model = SVC(gamma=gamma, C=C)\n",
    "        # cross_val_score() による交差検証\n",
    "        scores = cross_val_score(model, X_trainval, y_trainval, cv=5)\n",
    "        # k 個の評価値の平均を用いる\n",
    "        score = np.mean(scores)\n",
    "        if score > best_score:\n",
    "            best_score = score\n",
    "            best_parameters = {'gamma' : gamma, 'C' : C}"
   ]
  },
  {
   "cell_type": "code",
   "execution_count": 59,
   "metadata": {
    "collapsed": true
   },
   "outputs": [],
   "source": [
    "# モデル宣言\n",
    "model = SVC(**best_parameters)"
   ]
  },
  {
   "cell_type": "code",
   "execution_count": 60,
   "metadata": {
    "collapsed": true
   },
   "outputs": [],
   "source": [
    "# best_parametersに対し、training_set + validation_setを用いて学習\n",
    "model.fit(X_trainval, y_trainval)\n",
    "# test_setによる評価は、best_parameters が得られて初めて実行される\n",
    "test_score = model.score(X_test, y_test)"
   ]
  },
  {
   "cell_type": "code",
   "execution_count": 61,
   "metadata": {},
   "outputs": [
    {
     "name": "stdout",
     "output_type": "stream",
     "text": [
      "Best score on validation set: 0.9726896292113683\n",
      "Best parameters: {'gamma': 0.01, 'C': 100}\n",
      "Test set score with best parameters: 0.9736842105263158\n"
     ]
    }
   ],
   "source": [
    "print('Best score on validation set: {}'.format(best_score))\n",
    "print('Best parameters: {}'.format(best_parameters))\n",
    "print('Test set score with best parameters: {}'.format(test_score))"
   ]
  },
  {
   "cell_type": "markdown",
   "metadata": {},
   "source": [
    "# 交差検証を用いたグリッドサーチを実装したGridSearchCV\n",
    "### GridSearchCV関数はハイパーパラメータの探索、モデル学習、交差検定での評価をすべて行う\n",
    "GridSearchCVを用いることで上記のコードを下記のように書き直すことが可能"
   ]
  },
  {
   "cell_type": "code",
   "execution_count": 62,
   "metadata": {
    "collapsed": true
   },
   "outputs": [],
   "source": [
    "from sklearn.model_selection import GridSearchCV"
   ]
  },
  {
   "cell_type": "code",
   "execution_count": 63,
   "metadata": {
    "collapsed": true
   },
   "outputs": [],
   "source": [
    "# パラメータを辞書型で指定\n",
    "param_grid = {'C': [0.001, 0.01, 0.1, 1, 10, 100],  'gamma' : [0.001, 0.01, 0.1, 1, 10, 100]}"
   ]
  },
  {
   "cell_type": "code",
   "execution_count": 64,
   "metadata": {
    "collapsed": true
   },
   "outputs": [],
   "source": [
    "# validation_set は GridSearchCV によって自動作成されるためtraining_setとtest_set の分割のみを実行すればよい\n",
    "X_train, X_test, y_train, y_test = train_test_split(iris.data, iris.target, random_state=0)"
   ]
  },
  {
   "cell_type": "code",
   "execution_count": 65,
   "metadata": {},
   "outputs": [
    {
     "name": "stdout",
     "output_type": "stream",
     "text": [
      "(112, 4)\n",
      "(38, 4)\n",
      "(112,)\n",
      "(38,)\n"
     ]
    }
   ],
   "source": [
    "print(X_train.shape)\n",
    "print(X_test.shape)\n",
    "print(y_train.shape)\n",
    "print(y_test.shape)"
   ]
  },
  {
   "cell_type": "code",
   "execution_count": 67,
   "metadata": {
    "collapsed": true
   },
   "outputs": [],
   "source": [
    "# モデル宣言(GridSerch使用)\n",
    "model = GridSearchCV(SVC(), param_grid, cv=5)"
   ]
  },
  {
   "cell_type": "code",
   "execution_count": 68,
   "metadata": {},
   "outputs": [
    {
     "data": {
      "text/plain": [
       "GridSearchCV(cv=5, error_score='raise',\n",
       "       estimator=SVC(C=1.0, cache_size=200, class_weight=None, coef0=0.0,\n",
       "  decision_function_shape='ovr', degree=3, gamma='auto', kernel='rbf',\n",
       "  max_iter=-1, probability=False, random_state=None, shrinking=True,\n",
       "  tol=0.001, verbose=False),\n",
       "       fit_params=None, iid=True, n_jobs=1,\n",
       "       param_grid={'C': [0.001, 0.01, 0.1, 1, 10, 100], 'gamma': [0.001, 0.01, 0.1, 1, 10, 100]},\n",
       "       pre_dispatch='2*n_jobs', refit=True, return_train_score='warn',\n",
       "       scoring=None, verbose=0)"
      ]
     },
     "execution_count": 68,
     "metadata": {},
     "output_type": "execute_result"
    }
   ],
   "source": [
    "# fit関数を呼ぶことで交差検証とグリッドサーチがどちらも実行される\n",
    "model.fit(X_train, y_train)"
   ]
  },
  {
   "cell_type": "code",
   "execution_count": 71,
   "metadata": {},
   "outputs": [
    {
     "name": "stdout",
     "output_type": "stream",
     "text": [
      "Test set score : 0.97\n"
     ]
    }
   ],
   "source": [
    "print('Test set score : {:.2f}'.format(model.score(X_test, y_test)))"
   ]
  },
  {
   "cell_type": "code",
   "execution_count": null,
   "metadata": {
    "collapsed": true
   },
   "outputs": [],
   "source": []
  }
 ],
 "metadata": {
  "kernelspec": {
   "display_name": "Python 3",
   "language": "python",
   "name": "python3"
  },
  "language_info": {
   "codemirror_mode": {
    "name": "ipython",
    "version": 3
   },
   "file_extension": ".py",
   "mimetype": "text/x-python",
   "name": "python",
   "nbconvert_exporter": "python",
   "pygments_lexer": "ipython3",
   "version": "3.6.3"
  }
 },
 "nbformat": 4,
 "nbformat_minor": 2
}
