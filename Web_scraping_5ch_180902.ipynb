{
 "cells": [
  {
   "cell_type": "code",
   "execution_count": 1,
   "metadata": {
    "collapsed": true
   },
   "outputs": [],
   "source": [
    "import requests\n",
    "from bs4 import BeautifulSoup\n",
    "import chardet # 文字化け対策"
   ]
  },
  {
   "cell_type": "code",
   "execution_count": 2,
   "metadata": {
    "collapsed": true
   },
   "outputs": [],
   "source": [
    "response = requests.get('https://headline.2ch.net/bbynews/')"
   ]
  },
  {
   "cell_type": "code",
   "execution_count": 3,
   "metadata": {},
   "outputs": [],
   "source": [
    "# response.encoding, response.textとすると文字化けになるのでresponse.contentにする\n",
    "# つまり、BeautifulSoup()にresponse.contentを渡してBeautiful Soup側でデコードするということ\n",
    "# 参考:https://orangain.hatenablog.com/entry/encoding-in-requests-and-beautiful-soup\n",
    "soup = BeautifulSoup(response.content, 'lxml')"
   ]
  },
  {
   "cell_type": "code",
   "execution_count": 4,
   "metadata": {},
   "outputs": [
    {
     "name": "stdout",
     "output_type": "stream",
     "text": [
      "５ちゃんねる　電車男　ニュース　ヘッドライン BBY (news)\n"
     ]
    }
   ],
   "source": [
    "print(soup.title.string)"
   ]
  },
  {
   "cell_type": "code",
   "execution_count": 5,
   "metadata": {},
   "outputs": [
    {
     "name": "stdout",
     "output_type": "stream",
     "text": [
      "<a href=\"news.rss\">RSSはこちら</a>\n"
     ]
    }
   ],
   "source": [
    "print(soup.a)"
   ]
  },
  {
   "cell_type": "code",
   "execution_count": 6,
   "metadata": {
    "scrolled": true
   },
   "outputs": [
    {
     "data": {
      "text/plain": [
       "[<a href=\"news.rss\">RSSはこちら</a>,\n",
       " <a href=\"http://www.5ch.net/ticketplus\">イベント＋</a>,\n",
       " <a href=\"http://www.5ch.net/ticketplus\">イベント＋</a>,\n",
       " <a href=\"http://www.5ch.net/scienceplus\">科学ニュース+</a>,\n",
       " <a href=\"http://www.5ch.net/news5plus\">ニュース速報国際面+</a>,\n",
       " <a href=\"http://www.5ch.net/dqnplus\">DQN+(痛いニュース+)</a>,\n",
       " <a href=\"http://rosie.5ch.net/test/read.cgi/liveplus/1535891812/\">[<font color=\"#808080\">実＋</font>]親が亡くなって途端に空いた実家にしょちゅう来るようになる息子が近所迷惑 </a>,\n",
       " <a href=\"http://lavender.5ch.net/test/read.cgi/news4plus/1535891806/\">[<font color=\"#ff00ee\">東＋</font>]地方参政権付与を日本政府に勧告　在日コリアンを巡り国連委 ★23 </a>,\n",
       " <a href=\"http://rosie.5ch.net/test/read.cgi/liveplus/1535891740/\">[<font color=\"#808080\">実＋</font>]韋駄天(51)、マラソン大会でトップを走るも先導バイクと接触病院行き\t</a>,\n",
       " <a href=\"http://rosie.5ch.net/test/read.cgi/liveplus/1535891577/\">[<font color=\"#808080\">実＋</font>]労働者不足でもうボロボロ・・ </a>,\n",
       " <a href=\"http://rosie.5ch.net/test/read.cgi/liveplus/1535891525/\">[<font color=\"#808080\">実＋</font>]ウンコが漏れそうだパート2 </a>,\n",
       " <a href=\"http://rosie.5ch.net/test/read.cgi/liveplus/1535891423/\">[<font color=\"#808080\">実＋</font>]我らが公明党、障害者雇用義務果たさず党約違反！公明党は全然障害者に優しくなく冷徹な政党だった </a>,\n",
       " <a href=\"http://hayabusa9.5ch.net/test/read.cgi/mnewsplus/1535891346/\">[<font color=\"#ffa500\">芸＋</font>]【社会】少女誘拐の疑いでTBS社員を現行犯逮捕 </a>,\n",
       " <a href=\"http://asahi.5ch.net/test/read.cgi/newsplus/1535891240/\">[<font color=\"#000000\">速＋</font>]【静岡】未成年者誘拐容疑でＴＢＳ社員（30）逮捕　TBS「遺憾。深くおわびします」 </a>,\n",
       " <a href=\"http://asahi.5ch.net/test/read.cgi/newsplus/1535891233/\">[<font color=\"#000000\">速＋</font>]【米アラスカ州】娘2人を殺害した殺害した23歳の母親が逮捕される　Googleに｢窒息のベストな方法｣の検索履歴 </a>,\n",
       " <a href=\"http://hayabusa9.5ch.net/test/read.cgi/mnewsplus/1535891127/\">[<font color=\"#ffa500\">芸＋</font>]【サッカー】＜日本代表＞大島と山口がケガで離脱…天野純(横浜Fマリノス)と守田英正(川崎フロンターレ)がA代表初招集！ </a>,\n",
       " <a href=\"http://hayabusa9.5ch.net/test/read.cgi/mnewsplus/1535891106/\">[<font color=\"#ffa500\">芸＋</font>]【野球】セ･リーグ T12-3DB[9/2]　福留先制含む2適時打！俊介2適時打5打点！打線爆発阪神圧勝　De失策から今永炎上中継ぎ全員失点 </a>,\n",
       " <a href=\"http://asahi.5ch.net/test/read.cgi/newsplus/1535891007/\">[<font color=\"#000000\">速＋</font>]【東京五輪】ボランティア説明会、始まる　11万人以上が必要★10 </a>,\n",
       " <a href=\"http://fate.5ch.net/test/read.cgi/seijinewsplus/1535890757/\">[<font color=\"#808080\">政＋</font>]枝野「今、投票に行っていない人の５人に１人が、立憲民主党と書いていただければ、政権交代できます」　ネット「またアホ言ってるのか」 </a>,\n",
       " <a href=\"http://rosie.5ch.net/test/read.cgi/editorialplus/1535890585/\">[<font color=\"#808080\">社＋</font>]【卒塔婆ができるまで】日本のお坊さんによるタイムラプス </a>,\n",
       " <a href=\"http://fate.5ch.net/test/read.cgi/seijinewsplus/1535890567/\">[<font color=\"#808080\">政＋</font>]パヨク「安倍火炎瓶事件がトレンド入り！これで安倍も終わり！」　→自民支持率アップ 立憲支持率ダウン </a>,\n",
       " <a href=\"http://fate.5ch.net/test/read.cgi/seijinewsplus/1535890225/\">[<font color=\"#808080\">政＋</font>]国会前“九条ネギ反アベデモ”　ネット「農家に失礼。食べ物を、おもちゃにするな」「宗教か」「見るに堪えない聞くに耐えない」 </a>,\n",
       " <a href=\"http://rosie.5ch.net/test/read.cgi/liveplus/1535890035/\">[<font color=\"#808080\">実＋</font>]マルハンの出入り口の所で換金してしまったんだが </a>,\n",
       " <a href=\"http://lavender.5ch.net/test/read.cgi/news4plus/1535889999/\">[<font color=\"#ff00ee\">東＋</font>]【韓国】 日帝総督に爆弾を投げた姜宇奎（カン・ウギュ）義士義挙99周年記念式開催[09/02] </a>,\n",
       " <a href=\"http://asahi.5ch.net/test/read.cgi/newsplus/1535889811/\">[<font color=\"#000000\">速＋</font>]【科学】探査機「はやぶさ2」 10月に小惑星着陸へ　JAXAがスケジュール決定 </a>,\n",
       " <a href=\"http://hayabusa9.5ch.net/test/read.cgi/mnewsplus/1535889762/\">[<font color=\"#ffa500\">芸＋</font>]【ミス・ワールド２０１８】日本代表は慶応大４年の伊達佳内子さん　「負けず嫌い」は政宗公譲り </a>,\n",
       " <a href=\"http://asahi.5ch.net/test/read.cgi/newsplus/1535889536/\">[<font color=\"#000000\">速＋</font>]【追悼式】マケイン氏の娘「米は、再び偉大にされる必要などありません。なぜならアメリカはいつでも偉大だった」 </a>,\n",
       " <a href=\"http://hayabusa9.5ch.net/test/read.cgi/mnewsplus/1535889501/\">[<font color=\"#ffa500\">芸＋</font>]【サッカー】J1第25節3日目夜　FC東京×鳥栖　結果 </a>,\n",
       " <a href=\"http://phoebe.bbspink.com/test/read.cgi/pinkplus/1535889242/\">[<font color=\"#E56E94\">桃＋</font>]【今日の特選】峰なゆか、「パクリ騒動」再び!?　『平成ちゃんと昭和姉さん』告発に「これはひどい」の声続出[09/02] [無断転載禁止]©bbspink.com\t</a>,\n",
       " <a href=\"http://hayabusa9.5ch.net/test/read.cgi/mnewsplus/1535889033/\">[<font color=\"#ffa500\">芸＋</font>]【女子ゴルフ】小祝さくら悔し初ＰＯ「圧すごかった」申ジエに敗戦［09/02］ </a>,\n",
       " <a href=\"http://hayabusa9.5ch.net/test/read.cgi/mnewsplus/1535889001/\">[<font color=\"#ffa500\">芸＋</font>]【格闘】レジェンドレスラー・桜庭和志、グラップリングの将来性に太鼓判 ｢お客さんを退屈させないルール｣ </a>,\n",
       " <a href=\"http://hayabusa9.5ch.net/test/read.cgi/mnewsplus/1535888959/\">[<font color=\"#ffa500\">芸＋</font>]【野球】パ･リーグ M2-3F[9/2]　西川反撃犠飛レアード同点打9回西川決勝弾！日本ハム3連勝　3･4･5番手投手それぞれ失点ロッテ4連敗 </a>,\n",
       " <a href=\"http://asahi.5ch.net/test/read.cgi/newsplus/1535888896/\">[<font color=\"#000000\">速＋</font>]【今日は関東大震災の日】ドイツ紙で関東大震災とリンチ事件を取り上げる ★3 </a>,\n",
       " <a href=\"http://rosie.5ch.net/test/read.cgi/liveplus/1535888733/\">[<font color=\"#808080\">実＋</font>]自動小銃のカラシニコフ、民間市場向けの電動バイク『UM-1』を発表 </a>,\n",
       " <a href=\"http://hayabusa9.5ch.net/test/read.cgi/mnewsplus/1535888597/\">[<font color=\"#ffa500\">芸＋</font>]【芸能】 77歳 仲本工事が語る“ドリフ秘話”「加藤は天才、志村は秀才」の理由 </a>,\n",
       " <a href=\"http://fate.5ch.net/test/read.cgi/seijinewsplus/1535888437/\">[<font color=\"#808080\">政＋</font>]【石破氏】初街頭演説は高知　謹厳実直で知られる「ライオン宰相」記念館に　一方、安倍首相は散髪と自宅 </a>,\n",
       " <a href=\"http://hayabusa9.5ch.net/test/read.cgi/mnewsplus/1535888432/\">[<font color=\"#ffa500\">芸＋</font>]【芸能】波瑠、インスタに主演ドラマ宣伝動画投稿　ファンら仰天の細さ </a>,\n",
       " <a href=\"http://egg.5ch.net/test/read.cgi/moeplus/1535888426/\">[<font color=\"#d70074\">萌＋</font>]【TVアニメ】〈動画あり〉「けものフレンズ2」制作決定！フレンズの姿も映るPV第1弾も公開［09/02］ </a>,\n",
       " <a href=\"http://rosie.5ch.net/test/read.cgi/liveplus/1535888360/\">[<font color=\"#808080\">実＋</font>]国民民主職員数、障害者雇用義務満たさず　玉木共同代表、政権批判していたが… </a>,\n",
       " <a href=\"http://asahi.5ch.net/test/read.cgi/newsplus/1535888146/\">[<font color=\"#000000\">速＋</font>]【奈良バイク</a>]"
      ]
     },
     "execution_count": 6,
     "metadata": {},
     "output_type": "execute_result"
    }
   ],
   "source": [
    "# aタグすべてを抽出\n",
    "soup.find_all('a')"
   ]
  },
  {
   "cell_type": "code",
   "execution_count": 7,
   "metadata": {
    "scrolled": true
   },
   "outputs": [
    {
     "name": "stdout",
     "output_type": "stream",
     "text": [
      "<a href=\"news.rss\">RSSはこちら</a>\n",
      "RSSはこちら\n",
      "<a href=\"http://www.5ch.net/ticketplus\">イベント＋</a>\n",
      "イベント＋\n",
      "<a href=\"http://www.5ch.net/ticketplus\">イベント＋</a>\n",
      "イベント＋\n",
      "<a href=\"http://www.5ch.net/scienceplus\">科学ニュース+</a>\n",
      "科学ニュース+\n",
      "<a href=\"http://www.5ch.net/news5plus\">ニュース速報国際面+</a>\n",
      "ニュース速報国際面+\n",
      "<a href=\"http://www.5ch.net/dqnplus\">DQN+(痛いニュース+)</a>\n",
      "DQN+(痛いニュース+)\n",
      "<a href=\"http://rosie.5ch.net/test/read.cgi/liveplus/1535891812/\">[<font color=\"#808080\">実＋</font>]親が亡くなって途端に空いた実家にしょちゅう来るようになる息子が近所迷惑 </a>\n",
      "None\n",
      "<a href=\"http://lavender.5ch.net/test/read.cgi/news4plus/1535891806/\">[<font color=\"#ff00ee\">東＋</font>]地方参政権付与を日本政府に勧告　在日コリアンを巡り国連委 ★23 </a>\n",
      "None\n",
      "<a href=\"http://rosie.5ch.net/test/read.cgi/liveplus/1535891740/\">[<font color=\"#808080\">実＋</font>]韋駄天(51)、マラソン大会でトップを走るも先導バイクと接触病院行き\t</a>\n",
      "None\n",
      "<a href=\"http://rosie.5ch.net/test/read.cgi/liveplus/1535891577/\">[<font color=\"#808080\">実＋</font>]労働者不足でもうボロボロ・・ </a>\n",
      "None\n",
      "<a href=\"http://rosie.5ch.net/test/read.cgi/liveplus/1535891525/\">[<font color=\"#808080\">実＋</font>]ウンコが漏れそうだパート2 </a>\n",
      "None\n",
      "<a href=\"http://rosie.5ch.net/test/read.cgi/liveplus/1535891423/\">[<font color=\"#808080\">実＋</font>]我らが公明党、障害者雇用義務果たさず党約違反！公明党は全然障害者に優しくなく冷徹な政党だった </a>\n",
      "None\n",
      "<a href=\"http://hayabusa9.5ch.net/test/read.cgi/mnewsplus/1535891346/\">[<font color=\"#ffa500\">芸＋</font>]【社会】少女誘拐の疑いでTBS社員を現行犯逮捕 </a>\n",
      "None\n",
      "<a href=\"http://asahi.5ch.net/test/read.cgi/newsplus/1535891240/\">[<font color=\"#000000\">速＋</font>]【静岡】未成年者誘拐容疑でＴＢＳ社員（30）逮捕　TBS「遺憾。深くおわびします」 </a>\n",
      "None\n",
      "<a href=\"http://asahi.5ch.net/test/read.cgi/newsplus/1535891233/\">[<font color=\"#000000\">速＋</font>]【米アラスカ州】娘2人を殺害した殺害した23歳の母親が逮捕される　Googleに｢窒息のベストな方法｣の検索履歴 </a>\n",
      "None\n",
      "<a href=\"http://hayabusa9.5ch.net/test/read.cgi/mnewsplus/1535891127/\">[<font color=\"#ffa500\">芸＋</font>]【サッカー】＜日本代表＞大島と山口がケガで離脱…天野純(横浜Fマリノス)と守田英正(川崎フロンターレ)がA代表初招集！ </a>\n",
      "None\n",
      "<a href=\"http://hayabusa9.5ch.net/test/read.cgi/mnewsplus/1535891106/\">[<font color=\"#ffa500\">芸＋</font>]【野球】セ･リーグ T12-3DB[9/2]　福留先制含む2適時打！俊介2適時打5打点！打線爆発阪神圧勝　De失策から今永炎上中継ぎ全員失点 </a>\n",
      "None\n",
      "<a href=\"http://asahi.5ch.net/test/read.cgi/newsplus/1535891007/\">[<font color=\"#000000\">速＋</font>]【東京五輪】ボランティア説明会、始まる　11万人以上が必要★10 </a>\n",
      "None\n",
      "<a href=\"http://fate.5ch.net/test/read.cgi/seijinewsplus/1535890757/\">[<font color=\"#808080\">政＋</font>]枝野「今、投票に行っていない人の５人に１人が、立憲民主党と書いていただければ、政権交代できます」　ネット「またアホ言ってるのか」 </a>\n",
      "None\n",
      "<a href=\"http://rosie.5ch.net/test/read.cgi/editorialplus/1535890585/\">[<font color=\"#808080\">社＋</font>]【卒塔婆ができるまで】日本のお坊さんによるタイムラプス </a>\n",
      "None\n",
      "<a href=\"http://fate.5ch.net/test/read.cgi/seijinewsplus/1535890567/\">[<font color=\"#808080\">政＋</font>]パヨク「安倍火炎瓶事件がトレンド入り！これで安倍も終わり！」　→自民支持率アップ 立憲支持率ダウン </a>\n",
      "None\n",
      "<a href=\"http://fate.5ch.net/test/read.cgi/seijinewsplus/1535890225/\">[<font color=\"#808080\">政＋</font>]国会前“九条ネギ反アベデモ”　ネット「農家に失礼。食べ物を、おもちゃにするな」「宗教か」「見るに堪えない聞くに耐えない」 </a>\n",
      "None\n",
      "<a href=\"http://rosie.5ch.net/test/read.cgi/liveplus/1535890035/\">[<font color=\"#808080\">実＋</font>]マルハンの出入り口の所で換金してしまったんだが </a>\n",
      "None\n",
      "<a href=\"http://lavender.5ch.net/test/read.cgi/news4plus/1535889999/\">[<font color=\"#ff00ee\">東＋</font>]【韓国】 日帝総督に爆弾を投げた姜宇奎（カン・ウギュ）義士義挙99周年記念式開催[09/02] </a>\n",
      "None\n",
      "<a href=\"http://asahi.5ch.net/test/read.cgi/newsplus/1535889811/\">[<font color=\"#000000\">速＋</font>]【科学】探査機「はやぶさ2」 10月に小惑星着陸へ　JAXAがスケジュール決定 </a>\n",
      "None\n",
      "<a href=\"http://hayabusa9.5ch.net/test/read.cgi/mnewsplus/1535889762/\">[<font color=\"#ffa500\">芸＋</font>]【ミス・ワールド２０１８】日本代表は慶応大４年の伊達佳内子さん　「負けず嫌い」は政宗公譲り </a>\n",
      "None\n",
      "<a href=\"http://asahi.5ch.net/test/read.cgi/newsplus/1535889536/\">[<font color=\"#000000\">速＋</font>]【追悼式】マケイン氏の娘「米は、再び偉大にされる必要などありません。なぜならアメリカはいつでも偉大だった」 </a>\n",
      "None\n",
      "<a href=\"http://hayabusa9.5ch.net/test/read.cgi/mnewsplus/1535889501/\">[<font color=\"#ffa500\">芸＋</font>]【サッカー】J1第25節3日目夜　FC東京×鳥栖　結果 </a>\n",
      "None\n",
      "<a href=\"http://phoebe.bbspink.com/test/read.cgi/pinkplus/1535889242/\">[<font color=\"#E56E94\">桃＋</font>]【今日の特選】峰なゆか、「パクリ騒動」再び!?　『平成ちゃんと昭和姉さん』告発に「これはひどい」の声続出[09/02] [無断転載禁止]©bbspink.com\t</a>\n",
      "None\n",
      "<a href=\"http://hayabusa9.5ch.net/test/read.cgi/mnewsplus/1535889033/\">[<font color=\"#ffa500\">芸＋</font>]【女子ゴルフ】小祝さくら悔し初ＰＯ「圧すごかった」申ジエに敗戦［09/02］ </a>\n",
      "None\n",
      "<a href=\"http://hayabusa9.5ch.net/test/read.cgi/mnewsplus/1535889001/\">[<font color=\"#ffa500\">芸＋</font>]【格闘】レジェンドレスラー・桜庭和志、グラップリングの将来性に太鼓判 ｢お客さんを退屈させないルール｣ </a>\n",
      "None\n",
      "<a href=\"http://hayabusa9.5ch.net/test/read.cgi/mnewsplus/1535888959/\">[<font color=\"#ffa500\">芸＋</font>]【野球】パ･リーグ M2-3F[9/2]　西川反撃犠飛レアード同点打9回西川決勝弾！日本ハム3連勝　3･4･5番手投手それぞれ失点ロッテ4連敗 </a>\n",
      "None\n",
      "<a href=\"http://asahi.5ch.net/test/read.cgi/newsplus/1535888896/\">[<font color=\"#000000\">速＋</font>]【今日は関東大震災の日】ドイツ紙で関東大震災とリンチ事件を取り上げる ★3 </a>\n",
      "None\n",
      "<a href=\"http://rosie.5ch.net/test/read.cgi/liveplus/1535888733/\">[<font color=\"#808080\">実＋</font>]自動小銃のカラシニコフ、民間市場向けの電動バイク『UM-1』を発表 </a>\n",
      "None\n",
      "<a href=\"http://hayabusa9.5ch.net/test/read.cgi/mnewsplus/1535888597/\">[<font color=\"#ffa500\">芸＋</font>]【芸能】 77歳 仲本工事が語る“ドリフ秘話”「加藤は天才、志村は秀才」の理由 </a>\n",
      "None\n",
      "<a href=\"http://fate.5ch.net/test/read.cgi/seijinewsplus/1535888437/\">[<font color=\"#808080\">政＋</font>]【石破氏】初街頭演説は高知　謹厳実直で知られる「ライオン宰相」記念館に　一方、安倍首相は散髪と自宅 </a>\n",
      "None\n",
      "<a href=\"http://hayabusa9.5ch.net/test/read.cgi/mnewsplus/1535888432/\">[<font color=\"#ffa500\">芸＋</font>]【芸能】波瑠、インスタに主演ドラマ宣伝動画投稿　ファンら仰天の細さ </a>\n",
      "None\n",
      "<a href=\"http://egg.5ch.net/test/read.cgi/moeplus/1535888426/\">[<font color=\"#d70074\">萌＋</font>]【TVアニメ】〈動画あり〉「けものフレンズ2」制作決定！フレンズの姿も映るPV第1弾も公開［09/02］ </a>\n",
      "None\n",
      "<a href=\"http://rosie.5ch.net/test/read.cgi/liveplus/1535888360/\">[<font color=\"#808080\">実＋</font>]国民民主職員数、障害者雇用義務満たさず　玉木共同代表、政権批判していたが… </a>\n",
      "None\n",
      "<a href=\"http://asahi.5ch.net/test/read.cgi/newsplus/1535888146/\">[<font color=\"#000000\">速＋</font>]【奈良バイク</a>\n",
      "None\n"
     ]
    }
   ],
   "source": [
    "a_tags = soup.find_all('a')\n",
    "\n",
    "for a_tag in a_tags:\n",
    "    print(a_tag)\n",
    "    print(a_tag.string) # 文字のみ抽出"
   ]
  },
  {
   "cell_type": "code",
   "execution_count": 8,
   "metadata": {},
   "outputs": [
    {
     "data": {
      "text/plain": [
       "'news.rss'"
      ]
     },
     "execution_count": 8,
     "metadata": {},
     "output_type": "execute_result"
    }
   ],
   "source": [
    "# hrefはリンク先を指定\n",
    "# href=\"#\"の意味は、「ページのトップに遷移」\n",
    "soup.a.get('href')"
   ]
  },
  {
   "cell_type": "code",
   "execution_count": 9,
   "metadata": {
    "scrolled": true
   },
   "outputs": [
    {
     "name": "stdout",
     "output_type": "stream",
     "text": [
      "news.rss\n",
      "http://www.5ch.net/ticketplus\n",
      "http://www.5ch.net/ticketplus\n",
      "http://www.5ch.net/scienceplus\n",
      "http://www.5ch.net/news5plus\n",
      "http://www.5ch.net/dqnplus\n",
      "http://rosie.5ch.net/test/read.cgi/liveplus/1535891812/\n",
      "http://lavender.5ch.net/test/read.cgi/news4plus/1535891806/\n",
      "http://rosie.5ch.net/test/read.cgi/liveplus/1535891740/\n",
      "http://rosie.5ch.net/test/read.cgi/liveplus/1535891577/\n",
      "http://rosie.5ch.net/test/read.cgi/liveplus/1535891525/\n",
      "http://rosie.5ch.net/test/read.cgi/liveplus/1535891423/\n",
      "http://hayabusa9.5ch.net/test/read.cgi/mnewsplus/1535891346/\n",
      "http://asahi.5ch.net/test/read.cgi/newsplus/1535891240/\n",
      "http://asahi.5ch.net/test/read.cgi/newsplus/1535891233/\n",
      "http://hayabusa9.5ch.net/test/read.cgi/mnewsplus/1535891127/\n",
      "http://hayabusa9.5ch.net/test/read.cgi/mnewsplus/1535891106/\n",
      "http://asahi.5ch.net/test/read.cgi/newsplus/1535891007/\n",
      "http://fate.5ch.net/test/read.cgi/seijinewsplus/1535890757/\n",
      "http://rosie.5ch.net/test/read.cgi/editorialplus/1535890585/\n",
      "http://fate.5ch.net/test/read.cgi/seijinewsplus/1535890567/\n",
      "http://fate.5ch.net/test/read.cgi/seijinewsplus/1535890225/\n",
      "http://rosie.5ch.net/test/read.cgi/liveplus/1535890035/\n",
      "http://lavender.5ch.net/test/read.cgi/news4plus/1535889999/\n",
      "http://asahi.5ch.net/test/read.cgi/newsplus/1535889811/\n",
      "http://hayabusa9.5ch.net/test/read.cgi/mnewsplus/1535889762/\n",
      "http://asahi.5ch.net/test/read.cgi/newsplus/1535889536/\n",
      "http://hayabusa9.5ch.net/test/read.cgi/mnewsplus/1535889501/\n",
      "http://phoebe.bbspink.com/test/read.cgi/pinkplus/1535889242/\n",
      "http://hayabusa9.5ch.net/test/read.cgi/mnewsplus/1535889033/\n",
      "http://hayabusa9.5ch.net/test/read.cgi/mnewsplus/1535889001/\n",
      "http://hayabusa9.5ch.net/test/read.cgi/mnewsplus/1535888959/\n",
      "http://asahi.5ch.net/test/read.cgi/newsplus/1535888896/\n",
      "http://rosie.5ch.net/test/read.cgi/liveplus/1535888733/\n",
      "http://hayabusa9.5ch.net/test/read.cgi/mnewsplus/1535888597/\n",
      "http://fate.5ch.net/test/read.cgi/seijinewsplus/1535888437/\n",
      "http://hayabusa9.5ch.net/test/read.cgi/mnewsplus/1535888432/\n",
      "http://egg.5ch.net/test/read.cgi/moeplus/1535888426/\n",
      "http://rosie.5ch.net/test/read.cgi/liveplus/1535888360/\n",
      "http://asahi.5ch.net/test/read.cgi/newsplus/1535888146/\n"
     ]
    }
   ],
   "source": [
    "for link in a_tags:\n",
    "    print(link.get('href'))"
   ]
  },
  {
   "cell_type": "code",
   "execution_count": null,
   "metadata": {
    "collapsed": true
   },
   "outputs": [],
   "source": []
  }
 ],
 "metadata": {
  "kernelspec": {
   "display_name": "Python 3",
   "language": "python",
   "name": "python3"
  },
  "language_info": {
   "codemirror_mode": {
    "name": "ipython",
    "version": 3
   },
   "file_extension": ".py",
   "mimetype": "text/x-python",
   "name": "python",
   "nbconvert_exporter": "python",
   "pygments_lexer": "ipython3",
   "version": "3.6.3"
  }
 },
 "nbformat": 4,
 "nbformat_minor": 2
}
